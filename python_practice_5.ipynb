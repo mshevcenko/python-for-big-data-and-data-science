{
  "nbformat": 4,
  "nbformat_minor": 0,
  "metadata": {
    "colab": {
      "provenance": []
    },
    "kernelspec": {
      "name": "python3",
      "display_name": "Python 3"
    },
    "language_info": {
      "name": "python"
    }
  },
  "cells": [
    {
      "cell_type": "markdown",
      "source": [
        "# I. OOP"
      ],
      "metadata": {
        "id": "5qV_sehzFCTp"
      }
    },
    {
      "cell_type": "markdown",
      "source": [
        "1. (6б). Створіть клас Animal, додайте три атрибути, один з яких має значення за замовчуванням та два методи на свій розсуд."
      ],
      "metadata": {
        "id": "tx_U_hOALyfg"
      }
    },
    {
      "cell_type": "code",
      "source": [
        "class Animal:\n",
        "    def __init__(self, name, age, alive=True):\n",
        "        self.name = name\n",
        "        self.age = age\n",
        "        self.alive = alive\n",
        "\n",
        "    def die(self):\n",
        "        self.alive = False\n",
        "\n",
        "    def celebrate_birthday(self):\n",
        "        if self.alive:\n",
        "            self.age += 1"
      ],
      "metadata": {
        "id": "-Vf895KaL88N"
      },
      "execution_count": null,
      "outputs": []
    },
    {
      "cell_type": "markdown",
      "source": [
        "2. (2б). Створіть два обʼєкти цього класу, де один з обʼєктів створюється із дефолтним значенням атрибуту. На одному обʼєкті отримайте значення його атрибуту, а на іншому викличте один з його методів."
      ],
      "metadata": {
        "id": "X_UlOMB0L93w"
      }
    },
    {
      "cell_type": "code",
      "source": [
        "tiger = Animal(\"Tiger\", 12)\n",
        "turtle = Animal(\"Turtle\", 100, False)\n",
        "print(turtle.alive)\n",
        "tiger.celebrate_birthday()\n",
        "print(tiger.age)"
      ],
      "metadata": {
        "id": "7gBu0ESOMCpG",
        "colab": {
          "base_uri": "https://localhost:8080/"
        },
        "outputId": "a8314147-561b-4473-8595-233ba6ae2191"
      },
      "execution_count": null,
      "outputs": [
        {
          "output_type": "stream",
          "name": "stdout",
          "text": [
            "False\n",
            "13\n"
          ]
        }
      ]
    },
    {
      "cell_type": "markdown",
      "source": [
        "3. (5б). Створіть клас, де атрибути мають різні рівні доступу. Спробуйте отримати їхні значення та опишіть результати."
      ],
      "metadata": {
        "id": "HoqSCZt1MHn5"
      }
    },
    {
      "cell_type": "code",
      "source": [
        "class Car:\n",
        "    def __init__(self, manufacturer, model, production_year):\n",
        "        self.manufacturer = manufacturer\n",
        "        self._model = model\n",
        "        self.__production_year = production_year\n",
        "\n",
        "\n",
        "morgan_aeromax = Car(\"Morgan\", \"Aeromax\", 2008)\n",
        "# can get attribute, because it is public\n",
        "print(morgan_aeromax.manufacturer)\n",
        "# can get attribute even though it is protected\n",
        "print(morgan_aeromax._model)\n",
        "# can't get attribute, because it is private\n",
        "print(morgan_aeromax.__production_year)"
      ],
      "metadata": {
        "id": "r9b3vJxBMSPV",
        "colab": {
          "base_uri": "https://localhost:8080/",
          "height": 216
        },
        "outputId": "da7fcb40-15d1-4518-a2ad-6d6644a45d4a"
      },
      "execution_count": null,
      "outputs": [
        {
          "output_type": "stream",
          "name": "stdout",
          "text": [
            "Morgan\n",
            "Aeromax\n"
          ]
        },
        {
          "output_type": "error",
          "ename": "AttributeError",
          "evalue": "'Car' object has no attribute '__production_year'",
          "traceback": [
            "\u001b[0;31m---------------------------------------------------------------------------\u001b[0m",
            "\u001b[0;31mAttributeError\u001b[0m                            Traceback (most recent call last)",
            "\u001b[0;32m<ipython-input-52-2621c2c5aab9>\u001b[0m in \u001b[0;36m<cell line: 14>\u001b[0;34m()\u001b[0m\n\u001b[1;32m     12\u001b[0m \u001b[0mprint\u001b[0m\u001b[0;34m(\u001b[0m\u001b[0mmorgan_aeromax\u001b[0m\u001b[0;34m.\u001b[0m\u001b[0m_model\u001b[0m\u001b[0;34m)\u001b[0m\u001b[0;34m\u001b[0m\u001b[0;34m\u001b[0m\u001b[0m\n\u001b[1;32m     13\u001b[0m \u001b[0;31m# can't get attribute, because it is private\u001b[0m\u001b[0;34m\u001b[0m\u001b[0;34m\u001b[0m\u001b[0m\n\u001b[0;32m---> 14\u001b[0;31m \u001b[0mprint\u001b[0m\u001b[0;34m(\u001b[0m\u001b[0mmorgan_aeromax\u001b[0m\u001b[0;34m.\u001b[0m\u001b[0m__production_year\u001b[0m\u001b[0;34m)\u001b[0m\u001b[0;34m\u001b[0m\u001b[0;34m\u001b[0m\u001b[0m\n\u001b[0m",
            "\u001b[0;31mAttributeError\u001b[0m: 'Car' object has no attribute '__production_year'"
          ]
        }
      ]
    },
    {
      "cell_type": "markdown",
      "source": [
        "4. (7б). Як ви розумієте термін self? Для чого використовується метод __init __?"
      ],
      "metadata": {
        "id": "5op2m2vgMSkZ"
      }
    },
    {
      "cell_type": "markdown",
      "source": [
        "self - це вказівник на \"себе\", вказівник на поточний об'єкт екземпляру класа, яким ми оперуємо. __init __ - це констуктор класу, він ініціалізує об'єкт початковими значеннями, він викликається при створенні об'єкту. Наприклад, при створенні об'єкту Car(\"Morgan\", \"Aeromax\", 2008) викличеться __init __, який прийме значення self, \"Morgan\", \"Aeromax\", 2008."
      ],
      "metadata": {
        "id": "DyiPqNRvMasx"
      }
    },
    {
      "cell_type": "markdown",
      "source": [
        "5. (9б). Створіть клас Фігура без атрибутів, з методом get_area для отримання площі фігури, що повертає 0 та __add __, який приймає self та other в якості аргументів, а повертає суму площин фігур self та other."
      ],
      "metadata": {
        "id": "-6X8EGfjMd2y"
      }
    },
    {
      "cell_type": "code",
      "source": [
        "class Shape:\n",
        "    def get_area(self):\n",
        "        return 0\n",
        "\n",
        "    def __add__(self, other):\n",
        "        return self.get_area() + other.get_area()"
      ],
      "metadata": {
        "id": "4rvO_wYUMaEr"
      },
      "execution_count": null,
      "outputs": []
    },
    {
      "cell_type": "markdown",
      "source": [
        "6. (11б). Створіть 2 дочірніх класи від Фігури: Трикутник та Коло, які мають атрибути, необхідні для розрахунку площин. Визначте метод get_area в кожному з них так, щоби вони розраховували площу в залежності від формули для кожного типу фігури. Створіть обʼєкт класу Трикутник та обʼєкт класу Коло. Виконайте операцію суми за допомогою оператора + між ними."
      ],
      "metadata": {
        "id": "SFcKnnv5Mo_z"
      }
    },
    {
      "cell_type": "code",
      "source": [
        "import math\n",
        "\n",
        "\n",
        "class Triangle(Shape):\n",
        "    def __init__(self, side, height):\n",
        "        self.side = side\n",
        "        self.height = height\n",
        "\n",
        "    def get_area(self):\n",
        "        return self.side * self.height * 0.5\n",
        "\n",
        "\n",
        "class Circle(Shape):\n",
        "    def __init__(self, radius):\n",
        "        self.radius = radius\n",
        "\n",
        "    def get_area(self):\n",
        "        return 2 * math.pi * self.radius\n",
        "\n",
        "\n",
        "triangle1 = Triangle(5, 5)\n",
        "circle1 = Circle(5)\n",
        "print(triangle1.get_area())\n",
        "print(circle1.get_area())\n",
        "total_area = triangle1 + circle1\n",
        "print(total_area)"
      ],
      "metadata": {
        "id": "H3GVNr69Muf3",
        "colab": {
          "base_uri": "https://localhost:8080/"
        },
        "outputId": "9b8718b0-d485-447d-eb5b-66c9ed36a7e7"
      },
      "execution_count": null,
      "outputs": [
        {
          "output_type": "stream",
          "name": "stdout",
          "text": [
            "12.5\n",
            "31.41592653589793\n",
            "43.91592653589793\n"
          ]
        }
      ]
    },
    {
      "cell_type": "markdown",
      "source": [
        "7. (3б). Продемонструйте різницю між isinstance та issubclass."
      ],
      "metadata": {
        "id": "HCvR206YMvLK"
      }
    },
    {
      "cell_type": "code",
      "source": [
        "# isinstance checks whether an object is an instance of a specified class or its subclass\n",
        "print(isinstance(triangle1, Triangle))\n",
        "print(isinstance(triangle1, Shape))\n",
        "# issubclass checks whether a class is a subclass or equivalent to a class\n",
        "print(issubclass(Triangle, Shape))\n",
        "print(issubclass(Shape, Triangle))"
      ],
      "metadata": {
        "id": "L_V1bBvDM0GN",
        "colab": {
          "base_uri": "https://localhost:8080/"
        },
        "outputId": "40a2086c-5a3a-4792-9aee-b6e16b55073b"
      },
      "execution_count": null,
      "outputs": [
        {
          "output_type": "stream",
          "name": "stdout",
          "text": [
            "True\n",
            "True\n",
            "True\n",
            "False\n"
          ]
        }
      ]
    },
    {
      "cell_type": "markdown",
      "source": [
        "8. (13б). Створіть клас BankAccount з приватними атрибутами balance та account_number. Реалізуйте методи поповнення та зняття коштів, забезпечивши належну інкапсуляцію. Підказка: використовуйте декоратори property та setter."
      ],
      "metadata": {
        "id": "jjsaBZ-iM0Qq"
      }
    },
    {
      "cell_type": "code",
      "source": [
        "class BankAccount:\n",
        "    def __init__(self, balance, account_number):\n",
        "        self.__balance = balance\n",
        "        self.__account_number = account_number\n",
        "\n",
        "    @property\n",
        "    def balance(self):\n",
        "        return self.__balance\n",
        "\n",
        "    @property\n",
        "    def account_number(self):\n",
        "        return self.__account_number\n",
        "\n",
        "    @balance.setter\n",
        "    def balance(self, balance):\n",
        "        self.__balance = balance\n",
        "\n",
        "    def deposit(self, value):\n",
        "        if value < 0:\n",
        "            return False\n",
        "        self.balance = self.balance + value\n",
        "        return True\n",
        "\n",
        "    def withdraw(self, value):\n",
        "        if value < 0:\n",
        "            return False\n",
        "        if self.balance - value < 0:\n",
        "            return False\n",
        "        self.balance = self.balance - value\n",
        "        return True\n",
        "\n",
        "\n",
        "account = BankAccount(100, \"1234567890123456\")\n",
        "print(account.balance)\n",
        "print(account.account_number)\n",
        "account.deposit(50)\n",
        "print(account.balance)\n",
        "account.deposit(-1)\n",
        "print(account.balance)\n",
        "account.withdraw(70)\n",
        "print(account.balance)\n",
        "account.withdraw(200)\n",
        "print(account.balance)"
      ],
      "metadata": {
        "id": "xCvZ7lh8M7YA",
        "colab": {
          "base_uri": "https://localhost:8080/"
        },
        "outputId": "a628602d-0642-4168-8faf-8c10dd5c31b0"
      },
      "execution_count": null,
      "outputs": [
        {
          "output_type": "stream",
          "name": "stdout",
          "text": [
            "100\n",
            "1234567890123456\n",
            "150\n",
            "150\n",
            "80\n",
            "80\n"
          ]
        }
      ]
    },
    {
      "cell_type": "markdown",
      "source": [
        "9. (11б). Створіть клас Library, який містить список об'єктів типу Book. Реалізуйте методи для додавання книги, видалення книги та відображення списку книг."
      ],
      "metadata": {
        "id": "tIzL2SJTM8ft"
      }
    },
    {
      "cell_type": "code",
      "source": [
        "class Book:\n",
        "    def __init__(self, title, author):\n",
        "        self.title = title\n",
        "        self.author = author\n",
        "\n",
        "    def __str__(self):\n",
        "        return f\"Title: {self.title}, Author: {self.author}\"\n",
        "\n",
        "\n",
        "class Library:\n",
        "    def __init__(self, books=[]):\n",
        "        self.__books = books\n",
        "\n",
        "    @property\n",
        "    def books(self):\n",
        "        return self.__books\n",
        "\n",
        "    def books_count(self):\n",
        "        return len(self.__books)\n",
        "\n",
        "    def add_book(self, book):\n",
        "        self.__books.append(book)\n",
        "\n",
        "    def remove_book(self, book):\n",
        "        if book in self.__books:\n",
        "            self.__books.remove(book)\n",
        "            return True\n",
        "        return False\n",
        "\n",
        "    def remove_book_by_index(self, index):\n",
        "        if (index >= 0) and (index < self.books_count()):\n",
        "            self.__books.pop(index)\n",
        "            return True\n",
        "        return False\n",
        "\n",
        "    def __str__(self):\n",
        "        res = \"\"\n",
        "        for index, book in enumerate(self.__books):\n",
        "            res += f\"Book {index + 1} ({book})\\n\"\n",
        "        return res\n",
        "\n",
        "    def print_books(self):\n",
        "        print(self)\n",
        "\n",
        "\n",
        "initial_books = [Book(\"title1\", \"author1\"), Book(\"title2\", \"author2\")]\n",
        "library = Library(initial_books)\n",
        "library.print_books()\n",
        "library.add_book(Book(\"title3\", \"author3\"))\n",
        "library.print_books()\n",
        "library.remove_book(initial_books[0])\n",
        "library.print_books()\n",
        "library.remove_book_by_index(1)\n",
        "library.print_books()"
      ],
      "metadata": {
        "id": "HWxfJKLtNAUZ",
        "colab": {
          "base_uri": "https://localhost:8080/"
        },
        "outputId": "658cdc87-8948-4b09-9197-84aef0bc1097"
      },
      "execution_count": null,
      "outputs": [
        {
          "output_type": "stream",
          "name": "stdout",
          "text": [
            "Book 1 (Title: title1, Author: author1)\n",
            "Book 2 (Title: title2, Author: author2)\n",
            "\n",
            "Book 1 (Title: title1, Author: author1)\n",
            "Book 2 (Title: title2, Author: author2)\n",
            "Book 3 (Title: title3, Author: author3)\n",
            "\n",
            "Book 1 (Title: title2, Author: author2)\n",
            "Book 2 (Title: title3, Author: author3)\n",
            "\n",
            "Book 1 (Title: title2, Author: author2)\n",
            "\n"
          ]
        }
      ]
    },
    {
      "cell_type": "markdown",
      "source": [
        "10. (13б). Створіть клас Person з атрибутами name та age. Створіть ще один клас Employee з такими атрибутами, як department та salary. Створіть клас Manager, який успадковує обидва класи Person та Employee. Продемонструйте використання множинної спадковості, створивши обʼєкт класу Manager та отримавши mro для цього класу."
      ],
      "metadata": {
        "id": "lmV8pAwwNIqu"
      }
    },
    {
      "cell_type": "code",
      "source": [
        "class Person:\n",
        "    def __init__(self, name, age):\n",
        "        self.name = name\n",
        "        self.age = age\n",
        "\n",
        "\n",
        "class Employee:\n",
        "    def __init__(self, department, salary):\n",
        "        self.department = department\n",
        "        self.salary = salary\n",
        "\n",
        "\n",
        "class Manager(Person, Employee):\n",
        "    def __init__(self, name, age, department, salary):\n",
        "        Person.__init__(self, name, age)\n",
        "        Employee.__init__(self, department, salary)\n",
        "\n",
        "\n",
        "manager = Manager(\"manager\", 25, \"department\", 20000)\n",
        "print(manager.age)\n",
        "print(manager.salary)\n",
        "Manager.__mro__"
      ],
      "metadata": {
        "id": "R49grKlWNPeN",
        "colab": {
          "base_uri": "https://localhost:8080/"
        },
        "outputId": "6d2614c9-7c35-4b9a-fbd2-f3b05b3811d8"
      },
      "execution_count": null,
      "outputs": [
        {
          "output_type": "stream",
          "name": "stdout",
          "text": [
            "25\n",
            "20000\n"
          ]
        },
        {
          "output_type": "execute_result",
          "data": {
            "text/plain": [
              "(__main__.Manager, __main__.Person, __main__.Employee, object)"
            ]
          },
          "metadata": {},
          "execution_count": 41
        }
      ]
    },
    {
      "cell_type": "markdown",
      "source": [
        "# II. Iterator"
      ],
      "metadata": {
        "id": "dIJyUiNBFG8G"
      }
    },
    {
      "cell_type": "markdown",
      "source": [
        "11. (4б). Визначте рядок(str) з 4ма різними за значенням символами. Створіть ітератор на основі цього рядка. Викличте 5 разів функцію next на ітераторі, 4ри перших з них огорніть у ф-цію print()."
      ],
      "metadata": {
        "id": "13vsm0NyKIzL"
      }
    },
    {
      "cell_type": "code",
      "source": [
        "str1 = \"1234\"\n",
        "str1_iterator = iter(str1)\n",
        "print(next(str1_iterator))\n",
        "print(next(str1_iterator))\n",
        "print(next(str1_iterator))\n",
        "print(next(str1_iterator))\n",
        "next(str1_iterator)"
      ],
      "metadata": {
        "id": "81ntabAkKuz-",
        "colab": {
          "base_uri": "https://localhost:8080/",
          "height": 251
        },
        "outputId": "fce15dad-f586-434a-a2a3-29505ff843c7"
      },
      "execution_count": null,
      "outputs": [
        {
          "output_type": "stream",
          "name": "stdout",
          "text": [
            "1\n",
            "2\n",
            "3\n",
            "4\n"
          ]
        },
        {
          "output_type": "error",
          "ename": "StopIteration",
          "evalue": "",
          "traceback": [
            "\u001b[0;31m---------------------------------------------------------------------------\u001b[0m",
            "\u001b[0;31mStopIteration\u001b[0m                             Traceback (most recent call last)",
            "\u001b[0;32m<ipython-input-46-c648c44be169>\u001b[0m in \u001b[0;36m<cell line: 7>\u001b[0;34m()\u001b[0m\n\u001b[1;32m      5\u001b[0m \u001b[0mprint\u001b[0m\u001b[0;34m(\u001b[0m\u001b[0mnext\u001b[0m\u001b[0;34m(\u001b[0m\u001b[0mstr1_iterator\u001b[0m\u001b[0;34m)\u001b[0m\u001b[0;34m)\u001b[0m\u001b[0;34m\u001b[0m\u001b[0;34m\u001b[0m\u001b[0m\n\u001b[1;32m      6\u001b[0m \u001b[0mprint\u001b[0m\u001b[0;34m(\u001b[0m\u001b[0mnext\u001b[0m\u001b[0;34m(\u001b[0m\u001b[0mstr1_iterator\u001b[0m\u001b[0;34m)\u001b[0m\u001b[0;34m)\u001b[0m\u001b[0;34m\u001b[0m\u001b[0;34m\u001b[0m\u001b[0m\n\u001b[0;32m----> 7\u001b[0;31m \u001b[0mnext\u001b[0m\u001b[0;34m(\u001b[0m\u001b[0mstr1_iterator\u001b[0m\u001b[0;34m)\u001b[0m\u001b[0;34m\u001b[0m\u001b[0;34m\u001b[0m\u001b[0m\n\u001b[0m",
            "\u001b[0;31mStopIteration\u001b[0m: "
          ]
        }
      ]
    },
    {
      "cell_type": "markdown",
      "source": [
        "А що якщо викликати цю ж функцію на рядку?"
      ],
      "metadata": {
        "id": "aekWHGXOLRsO"
      }
    },
    {
      "cell_type": "code",
      "source": [
        "next(str1)"
      ],
      "metadata": {
        "id": "mxATGsErLV1i",
        "colab": {
          "base_uri": "https://localhost:8080/",
          "height": 144
        },
        "outputId": "4adf266d-2bfb-41ac-a66a-d6e0697a3aca"
      },
      "execution_count": null,
      "outputs": [
        {
          "output_type": "error",
          "ename": "TypeError",
          "evalue": "'str' object is not an iterator",
          "traceback": [
            "\u001b[0;31m---------------------------------------------------------------------------\u001b[0m",
            "\u001b[0;31mTypeError\u001b[0m                                 Traceback (most recent call last)",
            "\u001b[0;32m<ipython-input-47-dbc6a33f5b05>\u001b[0m in \u001b[0;36m<cell line: 1>\u001b[0;34m()\u001b[0m\n\u001b[0;32m----> 1\u001b[0;31m \u001b[0mnext\u001b[0m\u001b[0;34m(\u001b[0m\u001b[0mstr1\u001b[0m\u001b[0;34m)\u001b[0m\u001b[0;34m\u001b[0m\u001b[0;34m\u001b[0m\u001b[0m\n\u001b[0m",
            "\u001b[0;31mTypeError\u001b[0m: 'str' object is not an iterator"
          ]
        }
      ]
    },
    {
      "cell_type": "markdown",
      "source": [
        " 12. (5б). Опишіть своїми словами в одному реченні, як ви розумієте різницю між ітерабельними обʼєктами та ітераторами (можна на прикладі)."
      ],
      "metadata": {
        "id": "XwtMEopwJ4pH"
      }
    },
    {
      "cell_type": "markdown",
      "source": [
        "Ітерабельний об'єкт це об'єкт, який можна ітерувати (перебирати) за допомогою ітератора, а ітератор це об'єкт який перебирає елементи в ітерабельному об'єкті, по черзі повертаючи елементи з ітерабельного об'єкта поки вони не закінчаться (ітератор не змінює ітерабельний об'єкт). Наприклад, ітерабельний об'єкт - учні в класі, ітератор - вчителька, яка вказує по черзі на учнів."
      ],
      "metadata": {
        "id": "-sHrODc3KFn8"
      }
    },
    {
      "cell_type": "markdown",
      "source": [
        "13. (11б). Створіть клас, що має визначений Iterator Protocol та при кожному виклику next повертає літери англійської абетки, поки вони не вичерпаються."
      ],
      "metadata": {
        "id": "E9qJWmNbK8Gl"
      }
    },
    {
      "cell_type": "code",
      "source": [
        "import string\n",
        "\n",
        "\n",
        "class AlphabetIterator:\n",
        "    def __init__(self):\n",
        "        self.index = 0\n",
        "        self.alphabet = string.ascii_lowercase\n",
        "\n",
        "    def __iter__(self):\n",
        "        return self\n",
        "\n",
        "    def __next__(self):\n",
        "        if self.index >= len(self.alphabet):\n",
        "            raise StopIteration\n",
        "        letter = self.alphabet[self.index]\n",
        "        self.index += 1\n",
        "        return letter\n",
        "\n",
        "\n",
        "for letter in AlphabetIterator():\n",
        "    print(letter)"
      ],
      "metadata": {
        "id": "cqx-g_RsLo6I",
        "colab": {
          "base_uri": "https://localhost:8080/"
        },
        "outputId": "e13117b2-c3d9-4a77-f903-c806512b23ca"
      },
      "execution_count": null,
      "outputs": [
        {
          "output_type": "stream",
          "name": "stdout",
          "text": [
            "a\n",
            "b\n",
            "c\n",
            "d\n",
            "e\n",
            "f\n",
            "g\n",
            "h\n",
            "i\n",
            "j\n",
            "k\n",
            "l\n",
            "m\n",
            "n\n",
            "o\n",
            "p\n",
            "q\n",
            "r\n",
            "s\n",
            "t\n",
            "u\n",
            "v\n",
            "w\n",
            "x\n",
            "y\n",
            "z\n"
          ]
        }
      ]
    },
    {
      "cell_type": "markdown",
      "source": [
        "# Вітаю! Ви велика(ий) молодець, що впоралась(вся). Похваліть себе та побалуйте чимось приємним. Я Вами пишаюся."
      ],
      "metadata": {
        "id": "Z3E3S_s1Fv7-"
      }
    }
  ]
}